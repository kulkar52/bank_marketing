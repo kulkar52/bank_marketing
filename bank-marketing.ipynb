{
 "cells": [
  {
   "cell_type": "markdown",
   "metadata": {
    "_cell_guid": "b1076dfc-b9ad-4769-8c92-a6c4dae69d19",
    "_uuid": "8f2839f25d086af736a60e9eeb907d3b93b6e0e5",
    "collapsed": true
   },
   "source": [
    "Analysis of bank marketing dataset on R, v1"
   ]
  },
  {
   "cell_type": "code",
   "execution_count": 2,
   "metadata": {
    "_cell_guid": "79c7e3d0-c299-4dcb-8224-4455121ee9b0",
    "_uuid": "d629ff2d2480ee46fbb7e2d37f6b5fab8052498a"
   },
   "outputs": [
    {
     "ename": "SyntaxError",
     "evalue": "invalid syntax (<ipython-input-2-7e99a55d5c5e>, line 12)",
     "output_type": "error",
     "traceback": [
      "\u001b[0;36m  File \u001b[0;32m\"<ipython-input-2-7e99a55d5c5e>\"\u001b[0;36m, line \u001b[0;32m12\u001b[0m\n\u001b[0;31m    df <- df[order(df$y),] # ordering by 'y'\u001b[0m\n\u001b[0m                     ^\u001b[0m\n\u001b[0;31mSyntaxError\u001b[0m\u001b[0;31m:\u001b[0m invalid syntax\n"
     ]
    }
   ],
   "source": [
    "#=============================================\n",
    "# Bank Marketing\n",
    "#=============================================\n",
    "\n",
    "# Load dataset from working directory\n",
    "df <- read.csv(\"bank.csv\", sep = ';')\n",
    "\n",
    "# Exploratory analysis\n",
    "dim(df)\n",
    "str(df)\n",
    "summary(df)\n",
    "df <- df[order(df$'y'),] # ordering by 'y'\n",
    "levels(df$y) <- c(0,1) # no-0, yes-1\n",
    "\n",
    "# Missing values\n",
    "sum(is.na(df)) \n"
   ]
  },
  {
   "cell_type": "code",
   "execution_count": null,
   "metadata": {
    "_uuid": "6d7bdd14f1ad9e83416e8fa07272313d28b5ebaa",
    "collapsed": true
   },
   "outputs": [],
   "source": [
    "# Numeric and factor split \n",
    "dfn <- df[,sapply(df, function(x) is.numeric(x))]\n",
    "str(dfn)\n",
    "summary(dfn)\n",
    "dfc <- df[,sapply(df, is.factor)]\n",
    "str(dfc)\n",
    "summary(dfc)\n",
    "\n",
    "# visualisation\n",
    "for (i in (1:ncol(dfc))){\n",
    "  plot(dfc[,i], col = rainbow(20), main = names(dfc)[i])\n",
    "}\n",
    "\n",
    "for (i in (1:ncol(dfn))){\n",
    "  hist(dfn[,i], col = rainbow(20), main = names(dfn)[i])\n",
    "  boxplot(dfn[,i], col = rainbow(20), main = names(dfn)[i])\n",
    "}\n"
   ]
  },
  {
   "cell_type": "code",
   "execution_count": null,
   "metadata": {
    "_uuid": "f4f6743a4cc9d815d56f9c1ede7ccc05537306e5",
    "collapsed": true
   },
   "outputs": [],
   "source": [
    "# Data normalisation: Scaling the numeric variables using max-min method\n",
    "df$pdays[df$pdays==-1] <- 0\n",
    "for (i in c(1:ncol(df))){\n",
    "  if (sapply(df[i], is.numeric))\n",
    "  df[i] <- (max(df[i])-df[i])/max(df[i])\n",
    "}\n",
    "\n",
    "dfn <- df[,sapply(df, is.numeric)]\n",
    "str(dfn)\n",
    "summary(dfn)\n",
    "dfn <- cbind(dfn, df$y)\n"
   ]
  },
  {
   "cell_type": "code",
   "execution_count": null,
   "metadata": {
    "_uuid": "1029d596d2834176e0489597b19af309e9cf39e9",
    "collapsed": true
   },
   "outputs": [],
   "source": [
    "# Feature construction: F-score to calculate interaction effects\n",
    "fs <- matrix(0,ncol(dfn)-1,ncol(dfn)-1) # Empty square matrix\n",
    "v <- 0\n",
    "for (i in 1:ncol(fs)){\n",
    "  for (j in 1:i){\n",
    "    v <-0\n",
    "    v <- dfn[,i]*dfn[,j] # product of 2 columns\n",
    "    meanpos <- mean(v[c(0:4000)])\n",
    "    meanneg <- mean(v[c(4001:4521)])\n",
    "    meantot <- mean(v[c(0:4521)])\n",
    "    varpos <- var(v[c(0:4000)])\n",
    "    varneg <- var(v[c(4001:4521)])\n",
    "    fs[i,j] <- (((meanpos-meantot)^2) + ((meanneg-meantot)^2))/(varpos+varneg) # F-score\n",
    "  }\n",
    "}\n",
    "\n",
    "# selection of important features after examining the F-scores\n",
    "a <- cbind.data.frame(df$duration*df$previous, df$duration^2 , df$duration*df$balance, \n",
    "                      df$duration*df$campaign, df$duration*df$pdays)\n",
    "names(a) <- c('dur_prev','dur2','dur_bal','dur_camp','dur_pdays')\n",
    "df1 <- cbind.data.frame(df, a)\n"
   ]
  },
  {
   "cell_type": "code",
   "execution_count": null,
   "metadata": {
    "_uuid": "9b284bb6ca4ac62270a06adbdc493aa1eaddbd98",
    "collapsed": true
   },
   "outputs": [],
   "source": [
    "# Feature Selection using Random Forest \n",
    "library(randomForest)\n",
    "rffit <- randomForest(data = df1, df1$y~., ntree = 500, mtry = 12, importance = T)\n",
    "importance(rffit)\n",
    "varImpPlot(rffit) # The attribute and gini plot give the relative importance of the \n",
    "                    # features towards the model.\n",
    "\n",
    "# Feature Selection: Boruta\n",
    "library(Boruta)\n",
    "battrib <- Boruta(data = df, df$y~.)\n",
    "battrib # Important, tentative and rejected features shown\n"
   ]
  },
  {
   "cell_type": "code",
   "execution_count": null,
   "metadata": {
    "_uuid": "dbd20625833086a07d2030eebc6f201786389b79",
    "collapsed": true
   },
   "outputs": [],
   "source": [
    "# Class Balancing\n",
    "plot(df$y, col = rainbow(20), main = \"Success rate\") # There is an imbalance.\n",
    "non <- df1[df1$y==0,] # non-responders, y=0\n",
    "res <- df1[df1$y==1,] # responders, y=1\n",
    "indexnon <- sample(1:nrow(non), 2*nrow(res), replace = F) # non-responders taken twice \n",
    "                                                            # as much as responders\n",
    "train <- rbind(res, non[indexnon,])\n",
    "str(train)\n"
   ]
  },
  {
   "cell_type": "code",
   "execution_count": null,
   "metadata": {
    "_uuid": "669936039587a8bd20b2818b775636cbf2300ea4",
    "collapsed": true
   },
   "outputs": [],
   "source": [
    "# Splitting our dataset into test and train\n",
    "train <- train[,-c(9,11,14,15,16,18,22)] # Test dataset doesn't accomodate these features. \n",
    "                                            # Can be observed after EDA.\n",
    "s <- sample(nrow(train), 0.6*nrow(train), replace = F)\n",
    "strain <- train[s,]\n",
    "stest <- train[-s,]\n"
   ]
  },
  {
   "cell_type": "code",
   "execution_count": null,
   "metadata": {
    "_uuid": "2ad3d4c70a81f069d98f761af1e1ef25dc065623",
    "collapsed": true
   },
   "outputs": [],
   "source": [
    "# SVM model 1, radial kernel, on 60% train\n",
    "library(e1071)\n",
    "wts <- 100/table(strain$y) # Consider weights\n",
    "svmfit1 <- tune(svm, data = strain, y~., class.weights = wts, probability = T, # Tuning model for best fit\n",
    "                ranges = list(gamma = 2^(-8:0), cost = 10^(-2:4)), scale = F)\n",
    "\n",
    "radfit1 <- svmfit1$best.model # Best fit(gamma and cost) model used\n",
    "summary(radfit1)                \n",
    "pred <- predict(radfit1, newdata = stest[,-12]) # Prediction on split test\n",
    "table(predict = pred, truth = stest$y) # Cross-tab \n",
    "sum(pred==stest$y)/length(stest$y) # Accuracy\n"
   ]
  },
  {
   "cell_type": "code",
   "execution_count": null,
   "metadata": {
    "_uuid": "a4cc4670113264ab9339474fb3b3b10b00bf0ab7",
    "collapsed": true
   },
   "outputs": [],
   "source": [
    "#===================================================================\n",
    "# Test\n",
    "#===================================================================\n",
    "\n",
    "# Loading test data set, EDA and all the previous analysis performed\n",
    "# Load dataset from working directory\n",
    "dftest <- read.csv(\"test.csv\")\n",
    "\n",
    "# Exploratory analysis\n",
    "dim(dftest)\n",
    "str(dftest)\n",
    "summary(dftest)\n",
    "\n",
    "# Missing values\n",
    "sum(is.na(dftest)) \n",
    "\n",
    "# Numeric and factor split \n",
    "dftestn <- dftest[,sapply(dftest, function(x) is.numeric(x))]\n",
    "str(dftestn)\n",
    "summary(dftestn)\n",
    "dftestc <- dftest[,sapply(dftest, is.factor)]\n",
    "str(dftestc)\n",
    "summary(dftestc)\n",
    "\n",
    "# visualisation\n",
    "for (i in (1:ncol(dftestc))){\n",
    "  plot(dftestc[,i], col = rainbow(20), main = names(dftestc)[i])\n",
    "}\n",
    "\n",
    "for (i in (1:ncol(dftestn))){\n",
    "  hist(dftestn[,i], col = rainbow(20), main = names(dftestn)[i])\n",
    "  boxplot(dftestn[,i], col = rainbow(20), main = names(dftestn)[i])\n",
    "}\n",
    "\n"
   ]
  },
  {
   "cell_type": "code",
   "execution_count": null,
   "metadata": {
    "_uuid": "eeed637ab19d0aafa0ce9d2fd14db67b8ead5165",
    "collapsed": true
   },
   "outputs": [],
   "source": [
    "# Data normalisation: Scaling the numeric variables using max-min method\n",
    "dftest$pdays[dftest$pdays==-1] <- 0\n",
    "for (i in c(1:ncol(dftest))){\n",
    "  if (sapply(dftest[i], is.numeric))\n",
    "    dftest[i] <- (max(dftest[i])-dftest[i])/max(dftest[i])\n",
    "}\n",
    "\n",
    "a2 <- cbind.data.frame(dftest$duration*dftest$previous, dftest$duration^2 , dftest$duration*dftest$balance, \n",
    "                       dftest$duration*dftest$campaign, dftest$duration*dftest$pdays)\n",
    "names(a2) <- c('dur_prev','dur2','dur_bal','dur_camp','dur_pdays')\n",
    "dftest <- cbind.data.frame(dftest, a2)\n",
    "dftest <- (subset(dftest, select = -Id))\n",
    "dftest <- dftest[,-c(16,11,9,15,14,21,17)]\n"
   ]
  },
  {
   "cell_type": "code",
   "execution_count": null,
   "metadata": {
    "_uuid": "d56c914c2c0aad26cf30904d6d8526479370af57",
    "collapsed": true
   },
   "outputs": [],
   "source": [
    "#====================================================================================\n",
    "# SVM Model2: radial kernel, trained on complete train, applied on given test dataset\n",
    "#====================================================================================\n",
    "\n",
    "wts <- 100/table(df$y) # Consider weights\n",
    "svmfit2 <- tune(svm, data = df, y~., class.weights = wts, probability = T, # Tuning model for best fit\n",
    "                ranges = list(gamma = 2^(-8:0), cost = 10^(-2:4)), scale = F)\n",
    "\n",
    "radfit2 <- svmfit2$best.model # Best fit(gamma and cost) model used\n",
    "summary(radfit2)                \n",
    "pred_test <- predict(radfit2, newdata = dftest) # Prediction on given test\n"
   ]
  },
  {
   "cell_type": "code",
   "execution_count": null,
   "metadata": {
    "_uuid": "0619bcf73598bb2eeb36de995b9607cb2d89337a",
    "collapsed": true
   },
   "outputs": [],
   "source": [
    "# Submission as a csv file\n",
    "pred_test <- as.data.frame(pred_test)\n",
    "write.csv(pred_test,\"tested01.csv\")\n"
   ]
  },
  {
   "cell_type": "markdown",
   "metadata": {
    "_uuid": "daa8103777df491e04f98169f2661f2367abe910"
   },
   "source": [
    "The model gives an estimated accuracy of 87% on the test dataset. \n",
    "It has to be mentioned that the test dataset provoded is highly biased, and an unbiased set could enable better prediction.\n",
    "Many other models can be tested, and I shall try to implement them soon."
   ]
  }
 ],
 "metadata": {
  "kernelspec": {
   "display_name": "Python 3",
   "language": "python",
   "name": "python3"
  },
  "language_info": {
   "codemirror_mode": {
    "name": "ipython",
    "version": 3
   },
   "file_extension": ".py",
   "mimetype": "text/x-python",
   "name": "python",
   "nbconvert_exporter": "python",
   "pygments_lexer": "ipython3",
   "version": "3.6.5"
  }
 },
 "nbformat": 4,
 "nbformat_minor": 1
}
